{
 "cells": [
  {
   "cell_type": "code",
   "execution_count": 3,
   "metadata": {},
   "outputs": [],
   "source": [
    "import pandas as pd\n",
    "import os\n",
    "\n",
    "data_folder = 'processed_data'\n",
    "csv_files = [f for f in os.listdir(data_folder) if f.endswith('.csv')]\n",
    "data_frames = {file: pd.read_csv(os.path.join(data_folder, file)) for file in csv_files}\n"
   ]
  },
  {
   "cell_type": "code",
   "execution_count": 34,
   "metadata": {},
   "outputs": [],
   "source": [
    "col_to_remove = ['player_id', 'year']\n",
    "columns = list(data_frames['players.csv'].columns)\n",
    "for col in col_to_remove:\n",
    "    if col in columns:    \n",
    "        columns.remove(col)\n"
   ]
  },
  {
   "cell_type": "code",
   "execution_count": 43,
   "metadata": {},
   "outputs": [
    {
     "data": {
      "text/plain": [
       "['overall_rating',\n",
       " 'potential',\n",
       " 'attacking_work_rate',\n",
       " 'defensive_work_rate',\n",
       " 'crossing',\n",
       " 'preferred_foot_left',\n",
       " 'preferred_foot_right']"
      ]
     },
     "execution_count": 43,
     "metadata": {},
     "output_type": "execute_result"
    }
   ],
   "source": [
    "columns"
   ]
  },
  {
   "cell_type": "code",
   "execution_count": 4,
   "metadata": {},
   "outputs": [],
   "source": [
    "# Function to extract player stats for home and away players from a single game\n",
    "def get_player_stats(game_row, players_df):\n",
    "    player_stats = []\n",
    "    year = game_row['year']\n",
    "    \n",
    "    # Extract stats for home players\n",
    "    for i in range(1, 12):\n",
    "        home_player_id = game_row[f'home_player_{i}']\n",
    "        home_player_stats = players_df[(players_df['player_id'] == home_player_id) & (players_df['year'] == year)]\n",
    "        \n",
    "        # Check if player exists in the dataset for the given year\n",
    "        # If not, look for the most recent data available\n",
    "        while year > 2008 and home_player_stats.empty:\n",
    "            year -= 1\n",
    "            home_player_stats = players_df[(players_df['player_id'] == home_player_id) & (players_df['year'] == year)]\n",
    "        if not home_player_stats.empty:\n",
    "            home_player_stats = home_player_stats.drop(columns=col_to_remove)\n",
    "            player_stats.append(home_player_stats.iloc[0])\n",
    "        else:\n",
    "            player_stats.append([0] * (players_df.shape[1] - 2))  # If no data, append zeroes\n",
    "\n",
    "    # Extract stats for away players\n",
    "    for i in range(1, 12):\n",
    "        away_player_id = game_row[f'away_player_{i}']\n",
    "        away_player_stats = players_df[(players_df['player_id'] == away_player_id) & (players_df['year'] == year)]\n",
    "        \n",
    "        # Check if player exists in the dataset for the given year\n",
    "        # If not, look for the most recent data available\n",
    "        while year > 2008 and away_player_stats.empty:\n",
    "            year -= 1\n",
    "            away_player_stats = players_df[(players_df['player_id'] == home_player_id) & (players_df['year'] == year)]\n",
    "        if not away_player_stats.empty:\n",
    "            away_player_stats = away_player_stats.drop(columns=col_to_remove)\n",
    "            player_stats.append(away_player_stats.iloc[0])\n",
    "        else:\n",
    "            player_stats.append([0] * (players_df.shape[1] - 2))  # If no data, append zeroes\n",
    "\n",
    "    return player_stats\n",
    "\n"
   ]
  },
  {
   "cell_type": "code",
   "execution_count": 26,
   "metadata": {},
   "outputs": [],
   "source": [
    "from sklearn.model_selection import train_test_split\n",
    "\n",
    "\n",
    "home_players_formation = [f\"home_player_X{i}\" for i in range(1, 12)]\n",
    "home_players_formation.extend([f\"home_player_Y{i}\" for i in range(1, 12)])\n",
    "away_players_formation = [f\"away_player_X{i}\" for i in range(1, 12)]\n",
    "away_players_formation.extend([f\"away_player_Y{i}\" for i in range(1, 12)])\n",
    "\n",
    "# Load the datasets\n",
    "# games = data_frames['games.csv']\n",
    "games = data_frames['games.csv']\n",
    "players = data_frames['players.csv']\n",
    "\n",
    "# Prepare the features and labels (assuming 'home_team_win' as the target)\n",
    "X = []\n",
    "y = games['win_by'] \n",
    "\n",
    "# Extract features dynamically for each game\n",
    "for index, game_row in games.iterrows():\n",
    "    player_stats = get_player_stats(game_row, players)\n",
    "    x_col = []\n",
    "    x_col.extend([item for sublist in player_stats for item in sublist])\n",
    "    x_col.extend([game_row[col] for col in home_players_formation])\n",
    "    x_col.extend([game_row[col] for col in away_players_formation]) \n",
    "    X.append(x_col) \n",
    "\n",
    "# Split data into train and test sets\n",
    "X_train, X_test, y_train, y_test = train_test_split(X, y, test_size=0.2, random_state=42)\n"
   ]
  },
  {
   "cell_type": "code",
   "execution_count": 59,
   "metadata": {},
   "outputs": [
    {
     "name": "stdout",
     "output_type": "stream",
     "text": [
      "Mean Squared Error: 1.3700798227836752\n"
     ]
    }
   ],
   "source": [
    "from sklearn import ensemble\n",
    "from sklearn.impute import SimpleImputer\n",
    "from sklearn.pipeline import Pipeline\n",
    "from sklearn.metrics import mean_squared_error\n",
    "\n",
    "params = {\n",
    "    \"n_estimators\": 500,\n",
    "    \"max_depth\": 4,\n",
    "    \"min_samples_split\": 5,\n",
    "    \"learning_rate\": 0.01,\n",
    "    \"loss\": \"squared_error\",\n",
    "}\n",
    "\n",
    "pipeline = Pipeline([\n",
    "    ('imputer', SimpleImputer(strategy='mean')),  # Handle missing values by filling with the mean\n",
    "    ('classifier', ensemble.GradientBoostingRegressor(**params))\n",
    "])\n",
    "\n",
    "pipeline.fit(X_train, y_train)\n",
    "y_win_by = pipeline.predict(X_test)\n",
    "\n",
    "mse = mean_squared_error(y_test, y_win_by)\n",
    "print(f'Mean Squared Error: {mse}')\n"
   ]
  },
  {
   "cell_type": "code",
   "execution_count": 17,
   "metadata": {},
   "outputs": [],
   "source": [
    "def get_player_stats_test(game_row, players_df):\n",
    "    player_stats = []\n",
    "    \n",
    "    # Extract stats for home players\n",
    "    for i in range(1, 12):\n",
    "        home_player_id = game_row[f'home_player_{i}']\n",
    "        home_player_stats = players_df[(players_df['player_id'] == home_player_id)]\n",
    "        \n",
    "        if not home_player_stats.empty:\n",
    "            home_player_stats = home_player_stats.drop(columns=['player_id'])\n",
    "            player_stats.append(home_player_stats.iloc[0])\n",
    "        else:\n",
    "            player_stats.append([0] * (players_df.shape[1] - 1))  # If no data, append zeroes\n",
    "\n",
    "    # Extract stats for away players\n",
    "    for i in range(1, 12):\n",
    "        away_player_id = game_row[f'away_player_{i}']\n",
    "        away_player_stats = players_df[(players_df['player_id'] == away_player_id)]\n",
    "         \n",
    "        if not away_player_stats.empty:\n",
    "            away_player_stats = away_player_stats.drop(columns=['player_id'])\n",
    "            player_stats.append(away_player_stats.iloc[0])\n",
    "        else:\n",
    "            player_stats.append([0] * (players_df.shape[1] - 1))  # If no data, append zeroes\n",
    "\n",
    "    return player_stats"
   ]
  },
  {
   "cell_type": "code",
   "execution_count": 61,
   "metadata": {},
   "outputs": [],
   "source": [
    "predict_X = []\n",
    "\n",
    "tests = data_frames[\"test.csv\"]\n",
    "player_mean = data_frames['players.csv'].groupby('player_id').mean().drop('year', axis=1).reset_index()\n",
    "\n",
    "for index, test_row in tests.iterrows():\n",
    "    player_stats = get_player_stats_test(test_row, player_mean)\n",
    "    x_col = []\n",
    "    x_col.extend([item for sublist in player_stats for item in sublist])\n",
    "    # x_col.extend([test_row[col] for col in home_players_formation])\n",
    "    # x_col.extend([test_row[col] for col in away_players_formation]) \n",
    "    predict_X.append(x_col) "
   ]
  },
  {
   "cell_type": "code",
   "execution_count": 62,
   "metadata": {},
   "outputs": [],
   "source": [
    "predict_res = pipeline.predict(predict_X)\n"
   ]
  },
  {
   "cell_type": "code",
   "execution_count": 64,
   "metadata": {},
   "outputs": [],
   "source": [
    "df = pd.read_csv('winner_boost.csv')\n",
    "df['winby'] = predict_res\n",
    "df.to_csv('winby_and_winner.csv', index=False)"
   ]
  }
 ],
 "metadata": {
  "kernelspec": {
   "display_name": ".venv",
   "language": "python",
   "name": "python3"
  },
  "language_info": {
   "codemirror_mode": {
    "name": "ipython",
    "version": 3
   },
   "file_extension": ".py",
   "mimetype": "text/x-python",
   "name": "python",
   "nbconvert_exporter": "python",
   "pygments_lexer": "ipython3",
   "version": "3.10.14"
  }
 },
 "nbformat": 4,
 "nbformat_minor": 2
}
