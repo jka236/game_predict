{
 "cells": [
  {
   "cell_type": "code",
   "execution_count": 41,
   "metadata": {},
   "outputs": [],
   "source": [
    "import pandas as pd\n",
    "import numpy as np\n",
    "from sklearn.impute import KNNImputer"
   ]
  },
  {
   "cell_type": "code",
   "execution_count": 42,
   "metadata": {},
   "outputs": [],
   "source": [
    "df = pd.read_csv('data/test.csv')\n",
    "games = pd.read_csv('data/games.csv')\n",
    "goal_columns = games[[\"home_team_goal\",\"away_team_goal\"]]\n",
    "games.drop(columns=[\"home_team_goal\",\"away_team_goal\"],inplace=True)\n",
    "stacked_df = pd.concat([df, games], ignore_index=True)"
   ]
  },
  {
   "cell_type": "code",
   "execution_count": 43,
   "metadata": {},
   "outputs": [],
   "source": [
    "def team_id_knn(test_df, is_home_team = True, n_neighbors=1):\n",
    "    home_or_away = 'home' if is_home_team else 'away'\n",
    "    df = test_df.copy()\n",
    "    player_columns = [col for col in df.columns if col.startswith(f'{home_or_away}_player_')]\n",
    "    player_team_df = df[[f'{home_or_away}_team_id'] + player_columns]\n",
    "    \n",
    "    imputer = KNNImputer(n_neighbors=n_neighbors)\n",
    "    imputed_data = imputer.fit_transform(player_team_df)\n",
    "    imputed_df = pd.DataFrame(imputed_data, columns=player_team_df.columns)\n",
    "    \n",
    "    imputed_df[f'{home_or_away}_team_id'] = np.round(imputed_df[f'{home_or_away}_team_id']).astype(int)\n",
    "    df[f'{home_or_away}_team_id'] = imputed_df[f'{home_or_away}_team_id']\n",
    " \n",
    "    return df\n",
    "\n",
    "def player_id_knn(test_df, is_home_team = True, n_neighbors=1):\n",
    "    home_or_away = 'home' if is_home_team else 'away'\n",
    "    df = test_df.copy()\n",
    "    player_columns = [col for col in df.columns if col.startswith(f'{home_or_away}_player_')]\n",
    "    player_team_df = df[[f'{home_or_away}_team_id'] + player_columns]\n",
    "    \n",
    "    imputer = KNNImputer(n_neighbors=n_neighbors)\n",
    "    imputed_data = imputer.fit_transform(player_team_df)\n",
    "    imputed_df = pd.DataFrame(imputed_data, columns=player_team_df.columns)\n",
    "    \n",
    "    imputed_df[player_columns] = np.round(imputed_df[player_columns]).astype(int)\n",
    "    df[player_columns] = imputed_df[player_columns]\n",
    " \n",
    "    return df\n",
    "\n",
    "# Clean the test data\n",
    "cleaned_df = team_id_knn(stacked_df, is_home_team=True)\n",
    "cleaned_df = team_id_knn(cleaned_df, is_home_team=False)\n",
    "cleaned_df = player_id_knn(cleaned_df, is_home_team=True)\n",
    "cleaned_df = player_id_knn(cleaned_df, is_home_team=False)\n"
   ]
  },
  {
   "cell_type": "code",
   "execution_count": 44,
   "metadata": {},
   "outputs": [
    {
     "name": "stdout",
     "output_type": "stream",
     "text": [
      "Missing values before cleaning:\n",
      "home_team_id        71\n",
      "away_team_id        82\n",
      "home_player_1      493\n",
      "home_player_2      579\n",
      "home_player_3      550\n",
      "                  ... \n",
      "away_player_Y7     960\n",
      "away_player_Y8     960\n",
      "away_player_Y9     961\n",
      "away_player_Y10    961\n",
      "away_player_Y11    964\n",
      "Length: 68, dtype: int64\n",
      "\n",
      "Missing values after cleaning:\n",
      "home_team_id       0\n",
      "away_team_id       0\n",
      "home_player_1      0\n",
      "home_player_2      0\n",
      "home_player_3      0\n",
      "                  ..\n",
      "away_player_Y7     0\n",
      "away_player_Y8     0\n",
      "away_player_Y9     0\n",
      "away_player_Y10    0\n",
      "away_player_Y11    0\n",
      "Length: 68, dtype: int64\n"
     ]
    }
   ],
   "source": [
    "player_columns = [col for col in cleaned_df.columns if col.startswith('home_player_') or col.startswith('away_player_')]\n",
    "\n",
    "# Check the number of missing values before and after cleaning\n",
    "print(\"Missing values before cleaning:\")\n",
    "print(stacked_df[['home_team_id', 'away_team_id'] + player_columns].isna().sum())\n",
    "print(\"\\nMissing values after cleaning:\")\n",
    "print(cleaned_df[['home_team_id', 'away_team_id'] + player_columns].isna().sum())\n",
    "\n",
    "# Save the cleaned data\n",
    "test_df = cleaned_df.iloc[:1000]\n",
    "games_df = cleaned_df.iloc[1000:]\n",
    "\n",
    "games_df.reset_index(inplace=True, drop=True)\n",
    "games_df = pd.concat([games_df, goal_columns], axis=1)\n",
    "\n",
    "test_df.to_csv('processed_data/knn_test_df.csv', index=False)\n",
    "games_df.to_csv('processed_data/knn_games_df.csv', index=False)\n"
   ]
  }
 ],
 "metadata": {
  "kernelspec": {
   "display_name": ".venv",
   "language": "python",
   "name": "python3"
  },
  "language_info": {
   "codemirror_mode": {
    "name": "ipython",
    "version": 3
   },
   "file_extension": ".py",
   "mimetype": "text/x-python",
   "name": "python",
   "nbconvert_exporter": "python",
   "pygments_lexer": "ipython3",
   "version": "3.10.14"
  }
 },
 "nbformat": 4,
 "nbformat_minor": 2
}
