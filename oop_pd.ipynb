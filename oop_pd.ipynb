{
 "cells": [
  {
   "cell_type": "code",
   "execution_count": 47,
   "metadata": {},
   "outputs": [],
   "source": [
    "from features_handler import *\n",
    "import pandas as pd\n",
    "import dask.dataframe as dd\n",
    "import numpy as np\n"
   ]
  },
  {
   "cell_type": "code",
   "execution_count": 52,
   "metadata": {},
   "outputs": [],
   "source": [
    "players_df = pd.read_csv('processed_data/players.csv')\n",
    "games_df = pd.read_csv('processed_data/games.csv')\n",
    "test_df = pd.read_csv('processed_data/test.csv')\n",
    "\n",
    "games_df['is_home_winner'] = games_df['home_team_goal'] > games_df['away_team_goal']\n",
    "\n",
    "player_stats = ['overall_rating', 'potential', 'crossing'] \n",
    "\n",
    "feature_engineer = FeatureEngineer(players_df, games_df)\n",
    "\n",
    "# Add features\n",
    "# feature_engineer.add_feature(PlayerStatsFeature(players_df, player_stats))\n",
    "# feature_engineer.add_feature(TeamHistoricalGoalsFeature(games_df))\n",
    "# feature_engineer.add_feature(HeadToHeadWinningRateFeature(games_df))\n",
    "# feature_engineer.add_feature(TeamStatsFeature(players_df, player_stats))\n",
    "# feature_engineer.add_feature(WorkRateByPositionFeature(players_df))\n",
    "feature_engineer.add_feature(TeamHistoricalWinningRateFeature(games_df))\n"
   ]
  },
  {
   "cell_type": "code",
   "execution_count": 53,
   "metadata": {},
   "outputs": [
    {
     "name": "stdout",
     "output_type": "stream",
     "text": [
      "Initial feature names: ['home_team_home_winning_rate', 'home_team_away_winning_rate', 'home_team_total_winning_rate', 'away_team_home_winning_rate', 'away_team_away_winning_rate', 'away_team_total_winning_rate']\n",
      "Initial feature count: 6\n"
     ]
    }
   ],
   "source": [
    "# Create features for games and test data\n",
    "games_df['features'] = games_df.apply(lambda row: feature_engineer.create_features(row), axis=1)\n",
    "test_df['features'] = test_df.apply(lambda row: feature_engineer.create_features(row, is_test=True), axis=1)\n",
    "\n",
    "print(\"Initial feature names:\", feature_engineer.get_feature_names())\n",
    "print(\"Initial feature count:\", len(games_df['features'].iloc[0]))\n",
    "\n"
   ]
  },
  {
   "cell_type": "code",
   "execution_count": null,
   "metadata": {},
   "outputs": [],
   "source": [
    "# Remove a feature from the DataFrame\n",
    "feature_engineer.remove_feature_from_dataframe(games_df, TeamHistoricalWinningRateFeature)\n",
    "\n",
    "print(\"Feature names after removal:\", feature_engineer.get_feature_names())\n",
    "print(\"Feature count after removal:\", len(games_df['features'].iloc[0]))"
   ]
  }
 ],
 "metadata": {
  "kernelspec": {
   "display_name": ".venv",
   "language": "python",
   "name": "python3"
  },
  "language_info": {
   "codemirror_mode": {
    "name": "ipython",
    "version": 3
   },
   "file_extension": ".py",
   "mimetype": "text/x-python",
   "name": "python",
   "nbconvert_exporter": "python",
   "pygments_lexer": "ipython3",
   "version": "3.9.19"
  }
 },
 "nbformat": 4,
 "nbformat_minor": 2
}
